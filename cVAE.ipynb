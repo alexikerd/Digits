{
 "cells": [
  {
   "cell_type": "code",
   "execution_count": 2,
   "metadata": {},
   "outputs": [],
   "source": [
    "import os\n",
    "import random\n",
    "import cv2\n",
    "from tqdm import tqdm\n",
    "\n",
    "import numpy as np\n",
    "import pandas as pd\n",
    "import matplotlib.pyplot as plt\n",
    "import seaborn as sns\n",
    "from sklearn.metrics import confusion_matrix, classification_report\n",
    "import torch\n",
    "import torchvision\n",
    "import torch.nn as nn\n",
    "import torchvision.transforms as transforms\n",
    "import torch.optim as optim\n",
    "import torch.nn.functional as F\n",
    "from torch.utils.data import Dataset, DataLoader\n",
    "\n",
    "from PIL import Image"
   ]
  },
  {
   "cell_type": "code",
   "execution_count": null,
   "metadata": {},
   "outputs": [],
   "source": [
    "# mndata = MNIST(\"rawdata\")\n",
    "# test_data = mndata.load_testing()\n",
    "# for i,item in enumerate(zip(test_data[0],test_data[1])):\n",
    "\n",
    "#     image,label = item\n",
    "#     img = Image.fromarray(np.asarray(image).reshape((28,28))*255).resize((IMG_SIZE,IMG_SIZE))\n",
    "#     img.save(f'data/test/img_{label}_{i}.png')"
   ]
  },
  {
   "cell_type": "code",
   "execution_count": 3,
   "metadata": {},
   "outputs": [],
   "source": [
    "FOLDER = 'data'\n",
    "BATCH_SIZE = 16\n",
    "EPOCHS = 25\n",
    "LR = 0.001\n",
    "IMG_SIZE = 32\n",
    "device = \"cuda\" if torch.cuda.is_available() else \"cpu\"\n",
    "\n",
    "img_transform = transforms.Compose([\n",
    "#     transforms.RandomCrop(int(0.8*IMG_SIZE)),\n",
    "    transforms.Resize((IMG_SIZE,IMG_SIZE)),\n",
    "#     transforms.RandomAffine(degrees=30,translate=(0.1,0.1),scale=(0.8,1.2)),\n",
    "    transforms.ToTensor(),\n",
    "#     transforms.Normalize((0.5),(0.5)),\n",
    "])"
   ]
  },
  {
   "cell_type": "code",
   "execution_count": 4,
   "metadata": {},
   "outputs": [],
   "source": [
    "class ImageDataset(Dataset):\n",
    "\n",
    "    def __init__(self,folder,transform=None,test=False,display=None):\n",
    "        \n",
    "        self.folder = folder\n",
    "        self.traintest = \"test\" if test else \"train\"\n",
    "        self.data = os.listdir(f'data/{self.traintest}')\n",
    "        \n",
    "        if transform:\n",
    "            self.transform = transform\n",
    "        else:\n",
    "            self.transform = transforms.Compose([transforms.Resize((IMG_SIZE,IMG_SIZE)),transforms.ToTensor()])\n",
    "        \n",
    "        self.display = display\n",
    "        \n",
    "        if self.display != None:\n",
    "            print(f'We will only be displaying the {self.display}th element.')\n",
    "        \n",
    "    def __len__(self):\n",
    "        return len(self.data)\n",
    "        \n",
    "    def __getitem__(self,index):\n",
    "        \n",
    "        if self.display != None:\n",
    "            index = self.display\n",
    "            \n",
    "        item = self.data[index]\n",
    "        label = int(item.split(\"_\")[1])\n",
    "        \n",
    "        img = Image.open(f'data/{self.traintest}/{item}')\n",
    "        \n",
    "        \n",
    "        if self.transform:\n",
    "            image = self.transform(img)\n",
    "        \n",
    "        image = (image-image.min())/(image.max()-image.min())\n",
    "        image = torch.where(image>0.5,1,0).float()\n",
    "        \n",
    "        return image, label"
   ]
  },
  {
   "cell_type": "code",
   "execution_count": 5,
   "metadata": {
    "scrolled": true
   },
   "outputs": [
    {
     "name": "stdout",
     "output_type": "stream",
     "text": [
      "We will only be displaying the 0th element.\n"
     ]
    }
   ],
   "source": [
    "dataset = ImageDataset(FOLDER,transform=img_transform,display=0)"
   ]
  },
  {
   "cell_type": "code",
   "execution_count": 6,
   "metadata": {},
   "outputs": [],
   "source": [
    "dataloader = DataLoader(\n",
    "    dataset, \n",
    "    batch_size=BATCH_SIZE,\n",
    "    shuffle=False\n",
    "    )"
   ]
  },
  {
   "cell_type": "code",
   "execution_count": 7,
   "metadata": {},
   "outputs": [
    {
     "name": "stderr",
     "output_type": "stream",
     "text": [
      "P:\\ProgramData\\Anaconda\\lib\\site-packages\\torchvision\\transforms\\functional.py:128: UserWarning: The given NumPy array is not writeable, and PyTorch does not support non-writeable tensors. This means you can write to the underlying (supposedly non-writeable) NumPy array using the tensor. You may want to copy the array to protect its data or make it writeable before converting it to a tensor. This type of warning will be suppressed for the rest of this program. (Triggered internally at  ..\\torch\\csrc\\utils\\tensor_numpy.cpp:143.)\n",
      "  img = torch.from_numpy(np.array(pic, np.int32, copy=False))\n"
     ]
    },
    {
     "data": {
      "text/plain": [
       "<matplotlib.image.AxesImage at 0x1d39c4c2c40>"
      ]
     },
     "execution_count": 7,
     "metadata": {},
     "output_type": "execute_result"
    },
    {
     "data": {
      "image/png": "[encoded data removed]",
      "text/plain": [
       "<Figure size 3600x3600 with 1 Axes>"
      ]
     },
     "metadata": {
      "needs_background": "light"
     },
     "output_type": "display_data"
    }
   ],
   "source": [
    "images,labels = next(iter(dataloader))\n",
    "grid = torchvision.utils.make_grid(images,nrow=8)\n",
    "plt.figure(figsize=(50,50))\n",
    "plt.imshow(grid.numpy().transpose(1,2,0))"
   ]
  },
  {
   "cell_type": "code",
   "execution_count": 8,
   "metadata": {},
   "outputs": [],
   "source": [
    "class Encoder(nn.Module):\n",
    "    def __init__(self,channels):\n",
    "        super().__init__()     \n",
    "        \n",
    "        \n",
    "        self.conv1 = nn.Conv2d(channels,64,3,stride=1,padding=1)\n",
    "        self.conv2 = nn.Conv2d(64,64,3,stride=1,padding=1)\n",
    "        self.conv3 = nn.Conv2d(64,64,3,stride=1,padding=1)\n",
    "        self.conv4 = nn.Conv2d(64,128,4,stride=2,padding=1)\n",
    "        \n",
    "        self.mp = nn.MaxPool2d(2,2)\n",
    "         \n",
    "\n",
    "    def forward(self, x):\n",
    "        \n",
    "        out = self.conv1(x)\n",
    "        out = self.mp(out)\n",
    "        out = F.relu(out) \n",
    "        out = self.conv2(out)\n",
    "        out = self.mp(out)\n",
    "        out = F.relu(out)\n",
    "        out = self.conv3(out)\n",
    "        out = self.mp(out)\n",
    "        out = F.relu(out)\n",
    "        out= self.conv4(out)\n",
    "        out = self.mp(out)\n",
    "        out = F.relu(out)\n",
    "        \n",
    "        \n",
    "        return out.view(out.shape[0],-1)\n"
   ]
  },
  {
   "cell_type": "code",
   "execution_count": 9,
   "metadata": {},
   "outputs": [],
   "source": [
    "class Decoder(nn.Module):\n",
    "    def __init__(self,channels):\n",
    "        super().__init__()     \n",
    "        \n",
    "        self.transconv1 = nn.ConvTranspose2d(64+32,64,8,4,2)\n",
    "        self.transconv2 = nn.ConvTranspose2d(64,64,8,4,2)\n",
    "        self.transconv3 = nn.ConvTranspose2d(64,64,4,2,1)\n",
    "        self.transconv4 = nn.ConvTranspose2d(64,channels,3,1,1)\n",
    "        \n",
    "        self.digitEmbedding = nn.Embedding(10,32)\n",
    "\n",
    "        \n",
    "    def forward(self,x,labels):\n",
    "        \n",
    "        digit = self.digitEmbedding(labels)\n",
    "        z = torch.cat([x,digit],dim=1)\n",
    "\n",
    "        out = self.transconv1(z.view(z.shape[0],z.shape[1],1,1))\n",
    "        out = F.relu(out)\n",
    "        out = self.transconv2(out)\n",
    "        out = F.relu(out)\n",
    "        out = self.transconv3(out)\n",
    "        out = F.relu(out)\n",
    "        out = self.transconv4(out)\n",
    "        out = torch.sigmoid(out)\n",
    "\n",
    "        return out\n"
   ]
  },
  {
   "cell_type": "code",
   "execution_count": 10,
   "metadata": {},
   "outputs": [],
   "source": [
    "class cVAE(nn.Module):\n",
    "    def __init__(self,channels):\n",
    "        super().__init__()\n",
    "        \n",
    "        self.encoder = Encoder(channels)\n",
    "        self.decoder = Decoder(channels)\n",
    "        \n",
    "    def forward(self,x,labels):\n",
    "        \n",
    "        h = self.encoder(x)\n",
    "        \n",
    "        mu = h[:,:64]\n",
    "        logvar = h[:,64:]\n",
    "        s = torch.exp(logvar/2)\n",
    "        eps = torch.randn_like(s)\n",
    "        z = s*eps + mu \n",
    "\n",
    "        out = self.decoder(h[:,:64],labels)\n",
    "    \n",
    "        return out,mu,logvar"
   ]
  },
  {
   "cell_type": "code",
   "execution_count": 11,
   "metadata": {},
   "outputs": [],
   "source": [
    "dataset = ImageDataset(FOLDER)\n",
    "dataloader = DataLoader(\n",
    "    dataset, \n",
    "    batch_size=BATCH_SIZE,\n",
    "    shuffle=True\n",
    "    )"
   ]
  },
  {
   "cell_type": "code",
   "execution_count": 14,
   "metadata": {},
   "outputs": [],
   "source": [
    "def loss_function(recon_x,x,mu,logvar):\n",
    "    KLD = -0.5 * torch.sum(1 + logvar - mu.pow(2)  - logvar.exp())\n",
    "    KLD /= x.shape[0] * 3 * 64 * 64\n",
    "    RL = F.mse_loss(recon_x,x)\n",
    "    return RL + KLD"
   ]
  },
  {
   "cell_type": "code",
   "execution_count": 13,
   "metadata": {},
   "outputs": [],
   "source": [
    "cvae = cVAE(1)\n",
    "cvae.to(device)\n",
    "optimizer = torch.optim.Adam(cvae.parameters(),lr=LR,weight_decay=1e-5)"
   ]
  },
  {
   "cell_type": "code",
   "execution_count": 15,
   "metadata": {},
   "outputs": [
    {
     "name": "stderr",
     "output_type": "stream",
     "text": [
      "  4%|███▏                                                                            | 1/25 [11:49<4:43:36, 709.01s/it]"
     ]
    },
    {
     "name": "stdout",
     "output_type": "stream",
     "text": [
      "Epoch 0: 120.24736785888672\n"
     ]
    },
    {
     "name": "stderr",
     "output_type": "stream",
     "text": [
      "\r",
      "  8%|██████▍                                                                         | 2/25 [14:48<3:30:51, 550.07s/it]"
     ]
    },
    {
     "name": "stdout",
     "output_type": "stream",
     "text": [
      "Epoch 1: 77.93173217773438\n"
     ]
    },
    {
     "name": "stderr",
     "output_type": "stream",
     "text": [
      "\r",
      " 12%|█████████▌                                                                      | 3/25 [17:49<2:41:04, 439.31s/it]"
     ]
    },
    {
     "name": "stdout",
     "output_type": "stream",
     "text": [
      "Epoch 2: 71.51751708984375\n"
     ]
    },
    {
     "name": "stderr",
     "output_type": "stream",
     "text": [
      "\r",
      " 16%|████████████▊                                                                   | 4/25 [20:32<2:04:48, 356.59s/it]"
     ]
    },
    {
     "name": "stdout",
     "output_type": "stream",
     "text": [
      "Epoch 3: 68.59517669677734\n"
     ]
    },
    {
     "name": "stderr",
     "output_type": "stream",
     "text": [
      "\r",
      " 20%|████████████████                                                                | 5/25 [21:29<1:28:53, 266.65s/it]"
     ]
    },
    {
     "name": "stdout",
     "output_type": "stream",
     "text": [
      "Epoch 4: 66.89915466308594\n"
     ]
    },
    {
     "name": "stderr",
     "output_type": "stream",
     "text": [
      "\r",
      " 24%|███████████████████▏                                                            | 6/25 [22:26<1:04:33, 203.88s/it]"
     ]
    },
    {
     "name": "stdout",
     "output_type": "stream",
     "text": [
      "Epoch 5: 65.67218017578125\n"
     ]
    },
    {
     "name": "stderr",
     "output_type": "stream",
     "text": [
      "\r",
      " 28%|██████████████████████▉                                                           | 7/25 [23:22<47:48, 159.34s/it]"
     ]
    },
    {
     "name": "stdout",
     "output_type": "stream",
     "text": [
      "Epoch 6: 64.87889099121094\n"
     ]
    },
    {
     "name": "stderr",
     "output_type": "stream",
     "text": [
      "\r",
      " 32%|██████████████████████████▏                                                       | 8/25 [24:21<36:37, 129.27s/it]"
     ]
    },
    {
     "name": "stdout",
     "output_type": "stream",
     "text": [
      "Epoch 7: 64.19371032714844\n"
     ]
    },
    {
     "name": "stderr",
     "output_type": "stream",
     "text": [
      "\r",
      " 36%|█████████████████████████████▌                                                    | 9/25 [25:16<28:32, 107.03s/it]"
     ]
    },
    {
     "name": "stdout",
     "output_type": "stream",
     "text": [
      "Epoch 8: 63.742576599121094\n"
     ]
    },
    {
     "name": "stderr",
     "output_type": "stream",
     "text": [
      "\r",
      " 40%|████████████████████████████████▊                                                 | 10/25 [26:14<23:06, 92.46s/it]"
     ]
    },
    {
     "name": "stdout",
     "output_type": "stream",
     "text": [
      "Epoch 9: 63.18490219116211\n"
     ]
    },
    {
     "name": "stderr",
     "output_type": "stream",
     "text": [
      "\r",
      " 44%|████████████████████████████████████                                              | 11/25 [27:13<19:10, 82.18s/it]"
     ]
    },
    {
     "name": "stdout",
     "output_type": "stream",
     "text": [
      "Epoch 10: 62.88534927368164\n"
     ]
    },
    {
     "name": "stderr",
     "output_type": "stream",
     "text": [
      "\r",
      " 48%|███████████████████████████████████████▎                                          | 12/25 [28:12<16:19, 75.33s/it]"
     ]
    },
    {
     "name": "stdout",
     "output_type": "stream",
     "text": [
      "Epoch 11: 62.553977966308594\n"
     ]
    },
    {
     "name": "stderr",
     "output_type": "stream",
     "text": [
      "\r",
      " 52%|██████████████████████████████████████████▋                                       | 13/25 [29:10<14:01, 70.15s/it]"
     ]
    },
    {
     "name": "stdout",
     "output_type": "stream",
     "text": [
      "Epoch 12: 62.23857498168945\n"
     ]
    },
    {
     "name": "stderr",
     "output_type": "stream",
     "text": [
      "\r",
      " 56%|█████████████████████████████████████████████▉                                    | 14/25 [30:08<12:10, 66.37s/it]"
     ]
    },
    {
     "name": "stdout",
     "output_type": "stream",
     "text": [
      "Epoch 13: 61.946739196777344\n"
     ]
    },
    {
     "name": "stderr",
     "output_type": "stream",
     "text": [
      "\r",
      " 60%|█████████████████████████████████████████████████▏                                | 15/25 [31:03<10:31, 63.14s/it]"
     ]
    },
    {
     "name": "stdout",
     "output_type": "stream",
     "text": [
      "Epoch 14: 61.81741714477539\n"
     ]
    },
    {
     "name": "stderr",
     "output_type": "stream",
     "text": [
      "\r",
      " 64%|████████████████████████████████████████████████████▍                             | 16/25 [32:01<09:13, 61.51s/it]"
     ]
    },
    {
     "name": "stdout",
     "output_type": "stream",
     "text": [
      "Epoch 15: 61.68757629394531\n"
     ]
    },
    {
     "name": "stderr",
     "output_type": "stream",
     "text": [
      "\r",
      " 68%|███████████████████████████████████████████████████████▊                          | 17/25 [32:57<07:59, 59.99s/it]"
     ]
    },
    {
     "name": "stdout",
     "output_type": "stream",
     "text": [
      "Epoch 16: 61.43362045288086\n"
     ]
    },
    {
     "name": "stderr",
     "output_type": "stream",
     "text": [
      "\r",
      " 72%|███████████████████████████████████████████████████████████                       | 18/25 [33:55<06:53, 59.14s/it]"
     ]
    },
    {
     "name": "stdout",
     "output_type": "stream",
     "text": [
      "Epoch 17: 61.236915588378906\n"
     ]
    },
    {
     "name": "stderr",
     "output_type": "stream",
     "text": [
      "\r",
      " 76%|██████████████████████████████████████████████████████████████▎                   | 19/25 [34:50<05:48, 58.16s/it]"
     ]
    },
    {
     "name": "stdout",
     "output_type": "stream",
     "text": [
      "Epoch 18: 61.09946060180664\n"
     ]
    },
    {
     "name": "stderr",
     "output_type": "stream",
     "text": [
      "\r",
      " 80%|█████████████████████████████████████████████████████████████████▌                | 20/25 [35:49<04:51, 58.30s/it]"
     ]
    },
    {
     "name": "stdout",
     "output_type": "stream",
     "text": [
      "Epoch 19: 60.98861312866211\n"
     ]
    },
    {
     "name": "stderr",
     "output_type": "stream",
     "text": [
      "\r",
      " 84%|████████████████████████████████████████████████████████████████████▉             | 21/25 [36:48<03:53, 58.45s/it]"
     ]
    },
    {
     "name": "stdout",
     "output_type": "stream",
     "text": [
      "Epoch 20: 60.910240173339844\n"
     ]
    },
    {
     "name": "stderr",
     "output_type": "stream",
     "text": [
      "\r",
      " 88%|████████████████████████████████████████████████████████████████████████▏         | 22/25 [37:46<02:55, 58.39s/it]"
     ]
    },
    {
     "name": "stdout",
     "output_type": "stream",
     "text": [
      "Epoch 21: 60.7481689453125\n"
     ]
    },
    {
     "name": "stderr",
     "output_type": "stream",
     "text": [
      "\r",
      " 92%|███████████████████████████████████████████████████████████████████████████▍      | 23/25 [38:45<01:56, 58.47s/it]"
     ]
    },
    {
     "name": "stdout",
     "output_type": "stream",
     "text": [
      "Epoch 22: 60.72150421142578\n"
     ]
    },
    {
     "name": "stderr",
     "output_type": "stream",
     "text": [
      "\r",
      " 96%|██████████████████████████████████████████████████████████████████████████████▋   | 24/25 [39:42<00:58, 58.05s/it]"
     ]
    },
    {
     "name": "stdout",
     "output_type": "stream",
     "text": [
      "Epoch 23: 60.54297637939453\n"
     ]
    },
    {
     "name": "stderr",
     "output_type": "stream",
     "text": [
      "100%|██████████████████████████████████████████████████████████████████████████████████| 25/25 [40:38<00:00, 97.53s/it]"
     ]
    },
    {
     "name": "stdout",
     "output_type": "stream",
     "text": [
      "Epoch 24: 60.488525390625\n"
     ]
    },
    {
     "name": "stderr",
     "output_type": "stream",
     "text": [
      "\n"
     ]
    }
   ],
   "source": [
    "losses = []\n",
    "\n",
    "for e in range(EPOCHS):\n",
    "    total_loss = 0\n",
    "    for images,labels in tqdm(dataloader):\n",
    "\n",
    "        labels = labels.to(device)\n",
    "        images = images.to(device)\n",
    "\n",
    "        output,mu,logvar = cvae(images,labels)\n",
    "        loss = loss_function(output,images,mu,logvar)\n",
    "        loss.backward()\n",
    "        optimizer.step()\n",
    "        optimizer.zero_grad()\n",
    "\n",
    "\n",
    "        total_loss += loss.detach().cpu()\n",
    "        \n",
    "    print(f'Epoch {e}: {total_loss}')        \n",
    "    losses.append(total_loss/len(dataloader))\n",
    " "
   ]
  },
  {
   "cell_type": "code",
   "execution_count": 16,
   "metadata": {},
   "outputs": [
    {
     "data": {
      "image/png": "[encoded data removed]",
      "text/plain": [
       "<Figure size 432x288 with 1 Axes>"
      ]
     },
     "metadata": {
      "needs_background": "light"
     },
     "output_type": "display_data"
    }
   ],
   "source": [
    "plt.plot(losses);"
   ]
  },
  {
   "cell_type": "code",
   "execution_count": 17,
   "metadata": {},
   "outputs": [],
   "source": [
    "cvae = cvae.cpu()"
   ]
  },
  {
   "cell_type": "code",
   "execution_count": 68,
   "metadata": {},
   "outputs": [
    {
     "data": {
      "text/plain": [
       "[(0, tensor(6)),\n",
       " (1, tensor(7)),\n",
       " (2, tensor(0)),\n",
       " (3, tensor(8)),\n",
       " (4, tensor(2)),\n",
       " (5, tensor(4)),\n",
       " (6, tensor(4)),\n",
       " (7, tensor(0)),\n",
       " (8, tensor(1)),\n",
       " (9, tensor(7)),\n",
       " (10, tensor(0)),\n",
       " (11, tensor(7)),\n",
       " (12, tensor(3)),\n",
       " (13, tensor(0)),\n",
       " (14, tensor(3)),\n",
       " (15, tensor(3))]"
      ]
     },
     "execution_count": 68,
     "metadata": {},
     "output_type": "execute_result"
    }
   ],
   "source": [
    "images,labels = next(iter(dataloader))\n",
    "list(enumerate(labels))"
   ]
  },
  {
   "cell_type": "code",
   "execution_count": 80,
   "metadata": {},
   "outputs": [
    {
     "data": {
      "text/plain": [
       "<matplotlib.image.AxesImage at 0x1d3ebff0130>"
      ]
     },
     "execution_count": 80,
     "metadata": {},
     "output_type": "execute_result"
    },
    {
     "data": {
      "image/png": "[encoded data removed]",
      "text/plain": [
       "<Figure size 432x288 with 1 Axes>"
      ]
     },
     "metadata": {
      "needs_background": "light"
     },
     "output_type": "display_data"
    }
   ],
   "source": [
    "choice = 15\n",
    "plt.imshow(images[choice].squeeze(),cmap=\"gray\")"
   ]
  },
  {
   "cell_type": "code",
   "execution_count": 81,
   "metadata": {},
   "outputs": [],
   "source": [
    "with torch.no_grad():\n",
    "    output,_,_ = cvae(images,labels)"
   ]
  },
  {
   "cell_type": "code",
   "execution_count": 82,
   "metadata": {},
   "outputs": [
    {
     "data": {
      "text/plain": [
       "<matplotlib.image.AxesImage at 0x1d3ec0426a0>"
      ]
     },
     "execution_count": 82,
     "metadata": {},
     "output_type": "execute_result"
    },
    {
     "data": {
      "image/png": "[encoded data removed]",
      "text/plain": [
       "<Figure size 432x288 with 1 Axes>"
      ]
     },
     "metadata": {
      "needs_background": "light"
     },
     "output_type": "display_data"
    }
   ],
   "source": [
    "plt.imshow(output[choice].squeeze().cpu(),cmap=\"gray\")"
   ]
  },
  {
   "cell_type": "code",
   "execution_count": 88,
   "metadata": {},
   "outputs": [
    {
     "data": {
      "text/plain": [
       "<matplotlib.image.AxesImage at 0x1d3ffa712b0>"
      ]
     },
     "execution_count": 88,
     "metadata": {},
     "output_type": "execute_result"
    },
    {
     "data": {
      "image/png": "[encoded data removed]",
      "text/plain": [
       "<Figure size 432x288 with 1 Axes>"
      ]
     },
     "metadata": {
      "needs_background": "light"
     },
     "output_type": "display_data"
    }
   ],
   "source": [
    "with torch.no_grad():\n",
    "    new_output,_,_ = cvae(images[choice].unsqueeze(0),torch.LongTensor([8]))\n",
    "plt.imshow(new_output.squeeze(),cmap=\"gray\")"
   ]
  },
  {
   "cell_type": "code",
   "execution_count": 91,
   "metadata": {},
   "outputs": [
    {
     "data": {
      "text/plain": [
       "<matplotlib.image.AxesImage at 0x1d4029fc6a0>"
      ]
     },
     "execution_count": 91,
     "metadata": {},
     "output_type": "execute_result"
    },
    {
     "data": {
      "image/png": "[encoded data removed]",
      "text/plain": [
       "<Figure size 432x288 with 1 Axes>"
      ]
     },
     "metadata": {
      "needs_background": "light"
     },
     "output_type": "display_data"
    }
   ],
   "source": [
    "with torch.no_grad():\n",
    "    new_output,_,_ = cvae(images[choice].unsqueeze(0),torch.LongTensor([5]))\n",
    "plt.imshow(new_output.squeeze(),cmap=\"gray\")"
   ]
  },
  {
   "cell_type": "code",
   "execution_count": null,
   "metadata": {},
   "outputs": [],
   "source": [
    "# torch.save(model.state_dict(),\"models/auto1.pkl\")"
   ]
  },
  {
   "cell_type": "code",
   "execution_count": null,
   "metadata": {},
   "outputs": [],
   "source": [
    "# model = CNN(1,10).to(\"cuda\")\n",
    "# model.load_state_dict(torch.load(\"models/auto1.pkl\"))"
   ]
  },
  {
   "cell_type": "code",
   "execution_count": null,
   "metadata": {},
   "outputs": [],
   "source": [
    "testset = ImageDataset(FOLDER,test=True)\n",
    "testloader = DataLoader(\n",
    "    testset, \n",
    "    batch_size=200,\n",
    "    shuffle=True\n",
    "    )"
   ]
  },
  {
   "cell_type": "code",
   "execution_count": null,
   "metadata": {},
   "outputs": [],
   "source": [
    "images,labels = next(iter(testloader))\n",
    "output_images,output_labels = model(images.float().to(\"cuda\"))\n",
    "output_images = output_images.cpu()\n",
    "output_labels = output_labels.cpu()\n",
    "sample = torch.cat((images[:16],output_images[:16]),dim=0)\n",
    "grid = torchvision.utils.make_grid(sample,nrow=8)\n",
    "plt.figure(figsize=(50,50))\n",
    "plt.imshow(grid.numpy().transpose(1,2,0))"
   ]
  },
  {
   "cell_type": "code",
   "execution_count": null,
   "metadata": {},
   "outputs": [],
   "source": [
    "model.encode(values[0][0].unsqueeze(0).float().to(\"cuda\")).shape"
   ]
  },
  {
   "cell_type": "code",
   "execution_count": null,
   "metadata": {},
   "outputs": [],
   "source": [
    "values = []\n",
    "gt = []\n",
    "for i in range(10):\n",
    "    samples = images[labels==i].clone()\n",
    "    values.append(samples)\n",
    "    gt += [i for _ in range(len(samples))]"
   ]
  },
  {
   "cell_type": "code",
   "execution_count": null,
   "metadata": {},
   "outputs": [],
   "source": [
    "outputs = []\n",
    "with torch.no_grad():\n",
    "    for i in range(10):\n",
    "        outputs.append(model.encode(values[i].float().to(\"cuda\")).reshape(-1,3).cpu())"
   ]
  },
  {
   "cell_type": "code",
   "execution_count": null,
   "metadata": {},
   "outputs": [],
   "source": [
    "ls = outputs[0]\n",
    "for i in range(9):\n",
    "    ls = torch.cat((ls,outputs[i+1]))"
   ]
  },
  {
   "cell_type": "code",
   "execution_count": null,
   "metadata": {},
   "outputs": [],
   "source": [
    "ls"
   ]
  },
  {
   "cell_type": "code",
   "execution_count": null,
   "metadata": {},
   "outputs": [],
   "source": [
    "# from sklearn.manifold import TSNE"
   ]
  },
  {
   "cell_type": "code",
   "execution_count": null,
   "metadata": {},
   "outputs": [],
   "source": [
    "# tsne = TSNE(n_components=3)\n",
    "# ls2 = tsne.fit_transform(ls)"
   ]
  },
  {
   "cell_type": "code",
   "execution_count": null,
   "metadata": {},
   "outputs": [],
   "source": [
    "df = pd.DataFrame(ls.numpy(),columns=[\"Component 0\",\"Component 1\",\"Component 2\"])"
   ]
  },
  {
   "cell_type": "code",
   "execution_count": null,
   "metadata": {},
   "outputs": [],
   "source": [
    "df.loc[:,\"Label\"] = gt"
   ]
  },
  {
   "cell_type": "code",
   "execution_count": null,
   "metadata": {},
   "outputs": [],
   "source": [
    "df[[\"Component 0\",\"Component 1\",\"Component 2\"]] -= df[[\"Component 0\",\"Component 1\",\"Component 2\"]].mean()\n",
    "df[[\"Component 0\",\"Component 1\",\"Component 2\"]] /= df[[\"Component 0\",\"Component 1\",\"Component 2\"]].std()\n",
    "\n",
    "df.head()"
   ]
  },
  {
   "cell_type": "code",
   "execution_count": null,
   "metadata": {},
   "outputs": [],
   "source": [
    "import matplotlib.cm as cm\n",
    "from mpl_toolkits import mplot3d"
   ]
  },
  {
   "cell_type": "code",
   "execution_count": null,
   "metadata": {},
   "outputs": [],
   "source": [
    "colors = cm.rainbow(np.linspace(0, 1, 10))\n",
    "fig = plt.figure(figsize = (10, 7))\n",
    "ax = plt.axes(projection =\"3d\")\n",
    "\n",
    "for i in range(10):\n",
    "    ax.scatter3D(df[df.Label==i].iloc[:,0],df[df.Label==i].iloc[:,1],df[df.Label==i].iloc[:,2],color=colors[i],label=f'{i}')\n",
    "plt.legend();"
   ]
  },
  {
   "cell_type": "code",
   "execution_count": null,
   "metadata": {},
   "outputs": [],
   "source": [
    "fig = plt.figure(figsize = (10, 7))\n",
    "ax = plt.axes(projection =\"3d\")\n",
    "\n",
    "ax.scatter3D(df[df.Label==0].iloc[:,0],df[df.Label==0].iloc[:,1],df[df.Label==0].iloc[:,2],color=\"r\",label=\"0\")\n",
    "ax.scatter3D(df[df.Label==1].iloc[:,0],df[df.Label==1].iloc[:,1],df[df.Label==1].iloc[:,2],color=\"b\",label=\"1\")\n",
    "ax.scatter3D(df[df.Label==7].iloc[:,0],df[df.Label==7].iloc[:,1],df[df.Label==7].iloc[:,2],color=\"g\",label=\"7\")\n",
    "# ax.scatter3D(df[df.Label==9].iloc[:,0],df[df.Label==9].iloc[:,1],df[df.Label==9].iloc[:,2],color=\"orange\",label=\"9\")\n",
    "plt.legend();"
   ]
  },
  {
   "cell_type": "code",
   "execution_count": null,
   "metadata": {},
   "outputs": [],
   "source": [
    "np.where(labels==output_labels.argmax(axis=1),1,0).sum()/200"
   ]
  },
  {
   "cell_type": "code",
   "execution_count": null,
   "metadata": {},
   "outputs": [],
   "source": [
    "output_labels.argmax(axis=1)"
   ]
  },
  {
   "cell_type": "code",
   "execution_count": null,
   "metadata": {},
   "outputs": [],
   "source": []
  },
  {
   "cell_type": "code",
   "execution_count": null,
   "metadata": {},
   "outputs": [],
   "source": []
  },
  {
   "cell_type": "code",
   "execution_count": null,
   "metadata": {},
   "outputs": [],
   "source": []
  },
  {
   "cell_type": "code",
   "execution_count": null,
   "metadata": {},
   "outputs": [],
   "source": []
  },
  {
   "cell_type": "code",
   "execution_count": null,
   "metadata": {},
   "outputs": [],
   "source": []
  },
  {
   "cell_type": "code",
   "execution_count": null,
   "metadata": {},
   "outputs": [],
   "source": []
  },
  {
   "cell_type": "code",
   "execution_count": null,
   "metadata": {},
   "outputs": [],
   "source": []
  },
  {
   "cell_type": "code",
   "execution_count": null,
   "metadata": {},
   "outputs": [],
   "source": [
    "def GradCAM(X):\n",
    "\n",
    "    X = X.unsqueeze(0).float()\n",
    "    # plt.imshow(X.squeeze(),cmap=\"gray\")\n",
    "\n",
    "    model.eval()\n",
    "\n",
    "    # we need to find the gradient with respect to the input image, so we need to call requires_grad_ on it\n",
    "    X.requires_grad_()\n",
    "\n",
    "    '''\n",
    "    forward pass through the model to get the scores, note that VGG-19 model doesn't perform softmax at the end\n",
    "    and we also don't need softmax, we need scores, so that's perfect for us.\n",
    "    '''\n",
    "\n",
    "    scores = model(X.to(\"cuda\")).cpu()\n",
    "\n",
    "\n",
    "\n",
    "    score_max_index = scores.argmax()\n",
    "    score_max = scores[0,score_max_index]\n",
    "\n",
    "    '''\n",
    "    backward function on score_max performs the backward pass in the computation graph and calculates the gradient of \n",
    "    score_max with respect to nodes in the computation graph\n",
    "    '''\n",
    "    score_max.backward()\n",
    "\n",
    "    '''\n",
    "    Saliency would be the gradient with respect to the input image now. But note that the input image has 3 channels,\n",
    "    R, G and B. To derive a single class saliency value for each pixel (i, j),  we take the maximum magnitude\n",
    "    across all colour channels.\n",
    "    '''\n",
    "    saliency, _ = torch.max(X.grad.data.abs(),dim=1)\n",
    "\n",
    "    # code to plot the saliency map as a heatmap\n",
    "    f,axi = plt.subplots(1,2)\n",
    "    axi[0].imshow(X.detach().squeeze(),cmap=\"gray\")\n",
    "    axi[1].imshow(saliency.squeeze(), cmap=plt.cm.hot)\n",
    "    axi[0].set_title(f'{score_max_index}')\n",
    "    plt.axis('off')\n",
    "    plt.show()\n",
    "    "
   ]
  },
  {
   "cell_type": "code",
   "execution_count": null,
   "metadata": {},
   "outputs": [],
   "source": [
    "GradCAM(images[0])"
   ]
  },
  {
   "cell_type": "code",
   "execution_count": null,
   "metadata": {},
   "outputs": [],
   "source": [
    "GradCAM(images[3])"
   ]
  },
  {
   "cell_type": "code",
   "execution_count": null,
   "metadata": {
    "scrolled": true
   },
   "outputs": [],
   "source": [
    "GradCAM(images[50])"
   ]
  },
  {
   "cell_type": "code",
   "execution_count": null,
   "metadata": {},
   "outputs": [],
   "source": [
    "with torch.no_grad():\n",
    "    top_losses = torch.topk(nn.CrossEntropyLoss(reduce=False,size_average=False)(predictions.to(\"cuda\"),labels.to(\"cuda\")).cpu(),8)\n",
    "top_losses[1]"
   ]
  },
  {
   "cell_type": "code",
   "execution_count": null,
   "metadata": {},
   "outputs": [],
   "source": [
    "GradCAM(images[26])"
   ]
  }
 ],
 "metadata": {
  "kernelspec": {
   "display_name": "Python 3",
   "language": "python",
   "name": "python3"
  },
  "language_info": {
   "codemirror_mode": {
    "name": "ipython",
    "version": 3
   },
   "file_extension": ".py",
   "mimetype": "text/x-python",
   "name": "python",
   "nbconvert_exporter": "python",
   "pygments_lexer": "ipython3",
   "version": "3.8.5"
  }
 },
 "nbformat": 4,
 "nbformat_minor": 5
}
